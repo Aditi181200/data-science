{
 "cells": [
  {
   "cell_type": "code",
   "execution_count": 1,
   "id": "0da48d6d",
   "metadata": {},
   "outputs": [
    {
     "name": "stdout",
     "output_type": "stream",
     "text": [
      "<div class=\"_4rR01T\">MOTOROLA Revou 2 139 cm (55 inch) Ultra HD (4K) LED Smart Android TV with Dolby Atmos and Dolby Vision</div>\n"
     ]
    }
   ],
   "source": [
    "import bs4\n",
    "from bs4 import BeautifulSoup as bs\n",
    "import requests\n",
    "link='https://www.flipkart.com/search?q=tv&as=on&as-show=on&otracker=AS_Query_TrendingAutoSuggest_8_0_na_na_na&otracker1=AS_Query_TrendingAutoSuggest_8_0_na_na_na&as-pos=8&as-type=TRENDING&suggestionId=tv&requestId=9c9fa553-b7e5-454b-a65b-bbb7a9c74a29'\n",
    "page = requests.get(link)\n",
    " \n",
    "soup = bs(page.content, 'html.parser')\n",
    "#it gives us the visual representation of data\n",
    "name=soup.find('div',class_=\"_4rR01T\")\n",
    "print(name)"
   ]
  },
  {
   "cell_type": "code",
   "execution_count": 2,
   "id": "86fa5d2a",
   "metadata": {},
   "outputs": [
    {
     "data": {
      "text/plain": [
       "'MOTOROLA Revou 2 139 cm (55 inch) Ultra HD (4K) LED Smart Android TV with Dolby Atmos and Dolby Vision'"
      ]
     },
     "execution_count": 2,
     "metadata": {},
     "output_type": "execute_result"
    }
   ],
   "source": [
    "name.text"
   ]
  },
  {
   "cell_type": "code",
   "execution_count": 3,
   "id": "d73d4cde",
   "metadata": {},
   "outputs": [
    {
     "name": "stdout",
     "output_type": "stream",
     "text": [
      "<div class=\"_3LWZlK\">4.2<img class=\"_1wB99o\" src=\"data:image/svg+xml;base64,PHN2ZyB4bWxucz0iaHR0cDovL3d3dy53My5vcmcvMjAwMC9zdmciIHdpZHRoPSIxMyIgaGVpZ2h0PSIxMiI+PHBhdGggZmlsbD0iI0ZGRiIgZD0iTTYuNSA5LjQzOWwtMy42NzQgMi4yMy45NC00LjI2LTMuMjEtMi44ODMgNC4yNTQtLjQwNEw2LjUuMTEybDEuNjkgNC4wMSA0LjI1NC40MDQtMy4yMSAyLjg4Mi45NCA0LjI2eiIvPjwvc3ZnPg==\"/></div>\n"
     ]
    },
    {
     "data": {
      "text/plain": [
       "'4.2'"
      ]
     },
     "execution_count": 3,
     "metadata": {},
     "output_type": "execute_result"
    }
   ],
   "source": [
    "#get rating of a product\n",
    "rating=soup.find('div',class_=\"_3LWZlK\")\n",
    "print(rating)\n",
    "rating.text"
   ]
  },
  {
   "cell_type": "code",
   "execution_count": 4,
   "id": "894d2324",
   "metadata": {},
   "outputs": [
    {
     "name": "stdout",
     "output_type": "stream",
     "text": [
      "<div class=\"fMghEO\"><ul class=\"_1xgFaf\"><li class=\"rgWa7D\">Netflix|Prime Video|Disney+Hotstar|Youtube</li><li class=\"rgWa7D\">Operating System: Android</li><li class=\"rgWa7D\">Ultra HD (4K) 3840 x 2160 Pixels</li><li class=\"rgWa7D\">24 W Speaker Output</li><li class=\"rgWa7D\">60 Hz Refresh Rate</li><li class=\"rgWa7D\">4 x HDMI | 2 x USB</li><li class=\"rgWa7D\">VA Type Panel</li><li class=\"rgWa7D\">1 Year Warranty on Product</li></ul></div>\n"
     ]
    },
    {
     "data": {
      "text/plain": [
       "'Netflix|Prime Video|Disney+Hotstar|YoutubeOperating System: AndroidUltra HD (4K) 3840 x 2160 Pixels24 W Speaker Output60 Hz Refresh Rate4 x HDMI | 2 x USBVA Type Panel1 Year Warranty on Product'"
      ]
     },
     "execution_count": 4,
     "metadata": {},
     "output_type": "execute_result"
    }
   ],
   "source": [
    "#get other details and specifications of the product\n",
    "specification=soup.find('div',class_=\"fMghEO\")\n",
    "print(specification)\n",
    "specification.text"
   ]
  },
  {
   "cell_type": "code",
   "execution_count": 5,
   "id": "b5ddeed0",
   "metadata": {},
   "outputs": [
    {
     "name": "stdout",
     "output_type": "stream",
     "text": [
      "Netflix|Prime Video|Disney+Hotstar|Youtube\n",
      "Operating System: Android\n",
      "Ultra HD (4K) 3840 x 2160 Pixels\n",
      "60 Hz Refresh Rate\n",
      "4 x HDMI | 2 x USB\n",
      "1 Year Warranty on Product\n"
     ]
    }
   ],
   "source": [
    "for each in specification:\n",
    "    spec=each.find_all('li',class_='rgWa7D')\n",
    "    print(spec[0].text)\n",
    "    print(spec[1].text)\n",
    "    print(spec[2].text)\n",
    "    print(spec[4].text)\n",
    "    print(spec[5].text)\n",
    "    print(spec[7].text)"
   ]
  },
  {
   "cell_type": "code",
   "execution_count": 6,
   "id": "344475ef",
   "metadata": {},
   "outputs": [
    {
     "name": "stdout",
     "output_type": "stream",
     "text": [
      "<div class=\"_30jeq3 _1_WHN1\">₹37,999</div>\n"
     ]
    },
    {
     "data": {
      "text/plain": [
       "'₹37,999'"
      ]
     },
     "execution_count": 6,
     "metadata": {},
     "output_type": "execute_result"
    }
   ],
   "source": [
    "#get price of the product\n",
    "price=soup.find('div',class_='_30jeq3 _1_WHN1')\n",
    "print(price)\n",
    "price.text"
   ]
  },
  {
   "cell_type": "code",
   "execution_count": 7,
   "id": "600aa2ed",
   "metadata": {},
   "outputs": [],
   "source": [
    "products=[]              #List to store the name of the product\n",
    "prices=[]                #List to store price of the product\n",
    "ratings=[]               #List to store rating of the product\n",
    "apps = []                #List to store supported apps                \n",
    "os = []                  #List to store operating system\n",
    "hd = []                  #List to store resolution\n",
    "sound = []  "
   ]
  },
  {
   "cell_type": "code",
   "execution_count": 8,
   "id": "e63205aa",
   "metadata": {},
   "outputs": [],
   "source": [
    "for data in soup.findAll('div',class_='_3pLy-c row'):\n",
    "        names=data.find('div', attrs={'class':'_4rR01T'})\n",
    "        price=data.find('div', attrs={'class':'_30jeq3 _1_WHN1'})\n",
    "        rating=data.find('div', attrs={'class':'_3LWZlK'})\n",
    "        specification = data.find('div', attrs={'class':'fMghEO'})\n",
    "        \n",
    "        for each in specification:\n",
    "            col=each.find_all('li', attrs={'class':'rgWa7D'})\n",
    "            app =col[0].text\n",
    "            os_ = col[1].text\n",
    "            hd_ = col[2].text\n",
    "            sound_ = col[3].text\n",
    "            \n",
    "        products.append(names.text) # Add product name to list\n",
    "        prices.append(price.text) # Add price to list\n",
    "        apps.append(app)# Add supported apps specifications to list\n",
    "        os.append(os_) # Add operating system specifications to list\n",
    "        hd.append(hd_) # Add resolution specifications to list\n",
    "        sound.append(sound_) # Add sound specifications to list\n",
    "        ratings.append(rating.text) "
   ]
  },
  {
   "cell_type": "code",
   "execution_count": 9,
   "id": "fc4f7c7a",
   "metadata": {},
   "outputs": [
    {
     "name": "stdout",
     "output_type": "stream",
     "text": [
      "24\n",
      "24\n",
      "24\n",
      "24\n",
      "24\n",
      "24\n",
      "24\n"
     ]
    }
   ],
   "source": [
    "#printing the length of list\n",
    "print(len(products))\n",
    "print(len(ratings))\n",
    "print(len(prices))\n",
    "print(len(apps))\n",
    "print(len(sound))\n",
    "print(len(os))\n",
    "print(len(hd))"
   ]
  },
  {
   "cell_type": "code",
   "execution_count": 10,
   "id": "017a82a5",
   "metadata": {},
   "outputs": [
    {
     "data": {
      "text/html": [
       "<div>\n",
       "<style scoped>\n",
       "    .dataframe tbody tr th:only-of-type {\n",
       "        vertical-align: middle;\n",
       "    }\n",
       "\n",
       "    .dataframe tbody tr th {\n",
       "        vertical-align: top;\n",
       "    }\n",
       "\n",
       "    .dataframe thead th {\n",
       "        text-align: right;\n",
       "    }\n",
       "</style>\n",
       "<table border=\"1\" class=\"dataframe\">\n",
       "  <thead>\n",
       "    <tr style=\"text-align: right;\">\n",
       "      <th></th>\n",
       "      <th>Product Name</th>\n",
       "      <th>Supported_apps</th>\n",
       "      <th>sound_system</th>\n",
       "      <th>OS</th>\n",
       "      <th>Resolution</th>\n",
       "      <th>Price</th>\n",
       "      <th>Rating</th>\n",
       "    </tr>\n",
       "  </thead>\n",
       "  <tbody>\n",
       "    <tr>\n",
       "      <th>0</th>\n",
       "      <td>MOTOROLA Revou 2 139 cm (55 inch) Ultra HD (4K...</td>\n",
       "      <td>Netflix|Prime Video|Disney+Hotstar|Youtube</td>\n",
       "      <td>24 W Speaker Output</td>\n",
       "      <td>Operating System: Android</td>\n",
       "      <td>Ultra HD (4K) 3840 x 2160 Pixels</td>\n",
       "      <td>₹37,999</td>\n",
       "      <td>4.2</td>\n",
       "    </tr>\n",
       "    <tr>\n",
       "      <th>1</th>\n",
       "      <td>MOTOROLA Revou 2 80 cm (32 inch) HD Ready LED ...</td>\n",
       "      <td>Netflix|Prime Video|Disney+Hotstar|Youtube</td>\n",
       "      <td>24 W Speaker Output</td>\n",
       "      <td>Operating System: Android</td>\n",
       "      <td>HD Ready 1366 x 768 Pixels</td>\n",
       "      <td>₹13,999</td>\n",
       "      <td>4.1</td>\n",
       "    </tr>\n",
       "    <tr>\n",
       "      <th>2</th>\n",
       "      <td>realme 80 cm (32 inch) HD Ready LED Smart Andr...</td>\n",
       "      <td>Netflix|Prime Video|Disney+Hotstar|Youtube</td>\n",
       "      <td>24 W Speaker Output</td>\n",
       "      <td>Operating System: Android</td>\n",
       "      <td>HD Ready 1366 x 768 Pixels</td>\n",
       "      <td>₹14,999</td>\n",
       "      <td>4.3</td>\n",
       "    </tr>\n",
       "    <tr>\n",
       "      <th>3</th>\n",
       "      <td>Xiaomi 5A 80 cm (32 inch) HD Ready LED Smart A...</td>\n",
       "      <td>Netflix|Prime Video|Disney+Hotstar|Youtube</td>\n",
       "      <td>20 W Speaker Output</td>\n",
       "      <td>Operating System: Android</td>\n",
       "      <td>HD Ready 1366 x 768 Pixels</td>\n",
       "      <td>₹15,499</td>\n",
       "      <td>4.3</td>\n",
       "    </tr>\n",
       "    <tr>\n",
       "      <th>4</th>\n",
       "      <td>LG 108 cm (43 inch) Ultra HD (4K) LED Smart TV</td>\n",
       "      <td>Netflix|Prime Video|Disney+Hotstar|Youtube</td>\n",
       "      <td>20 W Speaker Output</td>\n",
       "      <td>Operating System: WebOS</td>\n",
       "      <td>Ultra HD (4K) 3840 x 2160 Pixels</td>\n",
       "      <td>₹32,990</td>\n",
       "      <td>4.4</td>\n",
       "    </tr>\n",
       "    <tr>\n",
       "      <th>5</th>\n",
       "      <td>OnePlus Y1S 80 cm (32 inch) HD Ready LED Smart...</td>\n",
       "      <td>Netflix|Prime Video|Disney+Hotstar|Youtube</td>\n",
       "      <td>20 W Speaker Output</td>\n",
       "      <td>Operating System: Android</td>\n",
       "      <td>HD Ready 1366 x 768 Pixels</td>\n",
       "      <td>₹16,499</td>\n",
       "      <td>4.2</td>\n",
       "    </tr>\n",
       "    <tr>\n",
       "      <th>6</th>\n",
       "      <td>OnePlus Y1 80 cm (32 inch) HD Ready LED Smart ...</td>\n",
       "      <td>Netflix|Prime Video|Disney+Hotstar|Youtube</td>\n",
       "      <td>20 W Speaker Output</td>\n",
       "      <td>Operating System: Android</td>\n",
       "      <td>HD Ready 1366 x 768 Pixels</td>\n",
       "      <td>₹15,999</td>\n",
       "      <td>4.3</td>\n",
       "    </tr>\n",
       "    <tr>\n",
       "      <th>7</th>\n",
       "      <td>Nokia 109 cm (43 inch) Full HD LED Smart Andro...</td>\n",
       "      <td>Netflix|Prime Video|Disney+Hotstar|Youtube</td>\n",
       "      <td>24 W Speaker Output</td>\n",
       "      <td>Operating System: Android</td>\n",
       "      <td>Full HD 1920 x 1080 Pixels</td>\n",
       "      <td>₹24,990</td>\n",
       "      <td>4.6</td>\n",
       "    </tr>\n",
       "    <tr>\n",
       "      <th>8</th>\n",
       "      <td>Vu Premium 126 cm (50 inch) Ultra HD (4K) LED ...</td>\n",
       "      <td>Netflix|Prime Video|Disney+Hotstar|Youtube</td>\n",
       "      <td>30 W Speaker Output</td>\n",
       "      <td>Operating System: Android</td>\n",
       "      <td>Ultra HD (4K) 3840 x 2160 Pixels</td>\n",
       "      <td>₹31,999</td>\n",
       "      <td>4.4</td>\n",
       "    </tr>\n",
       "    <tr>\n",
       "      <th>9</th>\n",
       "      <td>LG 80 cm (32 inch) HD Ready LED Smart TV</td>\n",
       "      <td>Netflix|Prime Video|Disney+Hotstar|Youtube</td>\n",
       "      <td>10 W Speaker Output</td>\n",
       "      <td>Operating System: WebOS</td>\n",
       "      <td>HD Ready 1366 x 768 Pixels</td>\n",
       "      <td>₹17,499</td>\n",
       "      <td>4.4</td>\n",
       "    </tr>\n",
       "  </tbody>\n",
       "</table>\n",
       "</div>"
      ],
      "text/plain": [
       "                                        Product Name  \\\n",
       "0  MOTOROLA Revou 2 139 cm (55 inch) Ultra HD (4K...   \n",
       "1  MOTOROLA Revou 2 80 cm (32 inch) HD Ready LED ...   \n",
       "2  realme 80 cm (32 inch) HD Ready LED Smart Andr...   \n",
       "3  Xiaomi 5A 80 cm (32 inch) HD Ready LED Smart A...   \n",
       "4     LG 108 cm (43 inch) Ultra HD (4K) LED Smart TV   \n",
       "5  OnePlus Y1S 80 cm (32 inch) HD Ready LED Smart...   \n",
       "6  OnePlus Y1 80 cm (32 inch) HD Ready LED Smart ...   \n",
       "7  Nokia 109 cm (43 inch) Full HD LED Smart Andro...   \n",
       "8  Vu Premium 126 cm (50 inch) Ultra HD (4K) LED ...   \n",
       "9           LG 80 cm (32 inch) HD Ready LED Smart TV   \n",
       "\n",
       "                               Supported_apps         sound_system  \\\n",
       "0  Netflix|Prime Video|Disney+Hotstar|Youtube  24 W Speaker Output   \n",
       "1  Netflix|Prime Video|Disney+Hotstar|Youtube  24 W Speaker Output   \n",
       "2  Netflix|Prime Video|Disney+Hotstar|Youtube  24 W Speaker Output   \n",
       "3  Netflix|Prime Video|Disney+Hotstar|Youtube  20 W Speaker Output   \n",
       "4  Netflix|Prime Video|Disney+Hotstar|Youtube  20 W Speaker Output   \n",
       "5  Netflix|Prime Video|Disney+Hotstar|Youtube  20 W Speaker Output   \n",
       "6  Netflix|Prime Video|Disney+Hotstar|Youtube  20 W Speaker Output   \n",
       "7  Netflix|Prime Video|Disney+Hotstar|Youtube  24 W Speaker Output   \n",
       "8  Netflix|Prime Video|Disney+Hotstar|Youtube  30 W Speaker Output   \n",
       "9  Netflix|Prime Video|Disney+Hotstar|Youtube  10 W Speaker Output   \n",
       "\n",
       "                          OS                        Resolution    Price Rating  \n",
       "0  Operating System: Android  Ultra HD (4K) 3840 x 2160 Pixels  ₹37,999    4.2  \n",
       "1  Operating System: Android        HD Ready 1366 x 768 Pixels  ₹13,999    4.1  \n",
       "2  Operating System: Android        HD Ready 1366 x 768 Pixels  ₹14,999    4.3  \n",
       "3  Operating System: Android        HD Ready 1366 x 768 Pixels  ₹15,499    4.3  \n",
       "4    Operating System: WebOS  Ultra HD (4K) 3840 x 2160 Pixels  ₹32,990    4.4  \n",
       "5  Operating System: Android        HD Ready 1366 x 768 Pixels  ₹16,499    4.2  \n",
       "6  Operating System: Android        HD Ready 1366 x 768 Pixels  ₹15,999    4.3  \n",
       "7  Operating System: Android        Full HD 1920 x 1080 Pixels  ₹24,990    4.6  \n",
       "8  Operating System: Android  Ultra HD (4K) 3840 x 2160 Pixels  ₹31,999    4.4  \n",
       "9    Operating System: WebOS        HD Ready 1366 x 768 Pixels  ₹17,499    4.4  "
      ]
     },
     "execution_count": 10,
     "metadata": {},
     "output_type": "execute_result"
    }
   ],
   "source": [
    "import pandas as pd\n",
    "df=pd.DataFrame({'Product Name':products,'Supported_apps':apps,'sound_system':sound,'OS':os,\"Resolution\":hd,'Price':prices,'Rating':ratings})\n",
    "df.head(10)"
   ]
  },
  {
   "cell_type": "code",
   "execution_count": null,
   "id": "731361aa",
   "metadata": {},
   "outputs": [],
   "source": []
  }
 ],
 "metadata": {
  "kernelspec": {
   "display_name": "Python 3 (ipykernel)",
   "language": "python",
   "name": "python3"
  },
  "language_info": {
   "codemirror_mode": {
    "name": "ipython",
    "version": 3
   },
   "file_extension": ".py",
   "mimetype": "text/x-python",
   "name": "python",
   "nbconvert_exporter": "python",
   "pygments_lexer": "ipython3",
   "version": "3.9.7"
  }
 },
 "nbformat": 4,
 "nbformat_minor": 5
}
